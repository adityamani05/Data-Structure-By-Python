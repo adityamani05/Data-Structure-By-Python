{
 "cells": [
  {
   "cell_type": "code",
   "execution_count": null,
   "metadata": {},
   "outputs": [],
   "source": [
    "'Binary Tree in python':"
   ]
  },
  {
   "cell_type": "code",
   "execution_count": null,
   "metadata": {},
   "outputs": [],
   "source": [
    "class BinaryTree:\n",
    "    def __init__(self,data):\n",
    "        self.data = data\n",
    "        self.right = None\n",
    "        self.left = None"
   ]
  },
  {
   "cell_type": "code",
   "execution_count": null,
   "metadata": {},
   "outputs": [],
   "source": [
    "root = None"
   ]
  },
  {
   "cell_type": "code",
   "execution_count": null,
   "metadata": {},
   "outputs": [],
   "source": [
    "def addNodeToTree(root,data):\n",
    "    if root == None:\n",
    "        root = BinaryTree(data)\n",
    "    else:\n",
    "        if root.data > data and root.left != None:\n",
    "            addNodeToTree(root.left,data)\n",
    "        elif root.data > data :\n",
    "            root.left = BinaryTree(data)\n",
    "        elif root.data <= data and root.right != None:\n",
    "            addNodeToTree(root.left,data)\n",
    "        else:\n",
    "            root.right = BinaryTree(data)"
   ]
  },
  {
   "cell_type": "code",
   "execution_count": null,
   "metadata": {},
   "outputs": [],
   "source": [
    "def printElementOfTree(root):\n",
    "    if root:\n",
    "        print(root.data)\n",
    "        printElementOfTree(root.left)\n",
    "        printElementOfTree(root.right)"
   ]
  },
  {
   "cell_type": "code",
   "execution_count": null,
   "metadata": {},
   "outputs": [],
   "source": [
    "def levelOrderTraversal(root):\n",
    "    if root == None:\n",
    "        print('No elements to print')\n",
    "        return 0\n",
    "    queue = []\n",
    "    queue.append(root)\n",
    "    while(len(queue)>0):\n",
    "        print(queue[0].data)\n",
    "        root = queue.pop(0)\n",
    "        if root.left != None :\n",
    "            queue.append(root.left)\n",
    "        if root.right != None :\n",
    "            queue.append(root.right)\n",
    "    "
   ]
  },
  {
   "cell_type": "code",
   "execution_count": null,
   "metadata": {},
   "outputs": [],
   "source": [
    "root = BinaryTree(10)"
   ]
  },
  {
   "cell_type": "code",
   "execution_count": null,
   "metadata": {},
   "outputs": [],
   "source": [
    "addNodeToTree(root,13)\n",
    "addNodeToTree(root,18)"
   ]
  },
  {
   "cell_type": "code",
   "execution_count": null,
   "metadata": {},
   "outputs": [],
   "source": [
    "printElementOfTree(root)"
   ]
  },
  {
   "cell_type": "code",
   "execution_count": null,
   "metadata": {},
   "outputs": [],
   "source": [
    "levelOrderTraversal(root)"
   ]
  },
  {
   "cell_type": "code",
   "execution_count": 2,
   "metadata": {},
   "outputs": [
    {
     "name": "stdout",
     "output_type": "stream",
     "text": [
      "5\n",
      "et\n",
      "eq\n",
      "bd\n",
      "be\n",
      "bdp\n",
      "the value in search method is e None\n",
      "the returned value of serch method is None\n",
      "e\n",
      "t\n",
      "the value in search method is e None\n",
      "the value in search method is e e\n",
      "match found\n",
      "the returned value of serch method is False\n",
      "e\n",
      "q\n",
      "the value in search method is b None\n",
      "the value in search method is b e\n",
      "the value in search method is b t\n",
      "the value in search method is b e\n",
      "the value in search method is b q\n",
      "the returned value of serch method is False\n",
      "b\n",
      "d\n",
      "the value in search method is b None\n",
      "the value in search method is b e\n",
      "the value in search method is b t\n",
      "the value in search method is b b\n",
      "match found\n",
      "the returned value of serch method is False\n",
      "b\n",
      "e\n",
      "the value in search method is b None\n",
      "the value in search method is b e\n",
      "the value in search method is b t\n",
      "the value in search method is b b\n",
      "match found\n",
      "the returned value of serch method is False\n",
      "b\n",
      "d\n",
      "p\n",
      "12\n"
     ]
    }
   ],
   "source": [
    "class node:\n",
    "    def __init__(self, data):\n",
    "        self.data = data\n",
    "        self.left = None\n",
    "        self.right = None\n",
    "\n",
    "\n",
    "def search(chara, root):\n",
    "    print('the value in search method is', end=' ')\n",
    "    print(chara, root.data)\n",
    "    if root.data == None and root.left == None and root.right == None:\n",
    "        return None\n",
    "    else:\n",
    "        if root.data == chara:\n",
    "            print('match found')\n",
    "            return root\n",
    "        if root.left:\n",
    "            search(chara, root.left)\n",
    "        if root.right:\n",
    "            search(chara, root.right)\n",
    "    return False\n",
    "\n",
    "\n",
    "no_of_strings = int(input())\n",
    "all_strings = []\n",
    "for i in range(no_of_strings):\n",
    "    x = input()\n",
    "    all_strings.append(x)\n",
    "\n",
    "head = node(None)\n",
    "flag = True\n",
    "count = 1\n",
    "while flag:\n",
    "    if len(all_strings) > 0:\n",
    "        string = all_strings.pop(0)\n",
    "        ret = search(string[0], head)\n",
    "        print('the returned value of serch method is {}'.format(ret))\n",
    "        if ret == None:\n",
    "            root = head\n",
    "            for i in string:\n",
    "                print(i)\n",
    "                data = node(i)\n",
    "                count += 1\n",
    "                root.left = data\n",
    "                root = root.left\n",
    "        elif ret == False:\n",
    "            root = head\n",
    "            for i in string:\n",
    "                print(i)\n",
    "                data = node(i)\n",
    "                count += 1\n",
    "                root.right = data\n",
    "                root = root.right\n",
    "        else:\n",
    "            print('IN ELSE')\n",
    "            root = ret\n",
    "            strin = string[1:]\n",
    "            print(strin)\n",
    "            for i in strin:\n",
    "                print(i)\n",
    "                data = node(i)\n",
    "                count += 1\n",
    "                root.right = data\n",
    "                root = root.right\n",
    "    else:\n",
    "        flag = False\n",
    "print(count)"
   ]
  },
  {
   "cell_type": "code",
   "execution_count": null,
   "metadata": {},
   "outputs": [],
   "source": []
  }
 ],
 "metadata": {
  "kernelspec": {
   "display_name": "Python 3",
   "language": "python",
   "name": "python3"
  }
 },
 "nbformat": 4,
 "nbformat_minor": 4
}
